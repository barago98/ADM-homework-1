{
 "cells": [
  {
   "cell_type": "markdown",
   "metadata": {},
   "source": [
    "# PROBLEM 1"
   ]
  },
  {
   "cell_type": "markdown",
   "metadata": {},
   "source": [
    "## introduction"
   ]
  },
  {
   "cell_type": "markdown",
   "metadata": {},
   "source": [
    "#### Say \"Hello, World!\" With Python"
   ]
  },
  {
   "cell_type": "code",
   "execution_count": null,
   "metadata": {},
   "outputs": [],
   "source": [
    "print(\"Hello, World!\")"
   ]
  },
  {
   "cell_type": "markdown",
   "metadata": {},
   "source": [
    "#### Python If-Else"
   ]
  },
  {
   "cell_type": "code",
   "execution_count": null,
   "metadata": {
    "scrolled": false
   },
   "outputs": [],
   "source": [
    "#!/bin/python3\n",
    "\n",
    "import math\n",
    "import os\n",
    "import random\n",
    "import re\n",
    "import sys\n",
    "\n",
    "\n",
    "n=int(input().strip())\n",
    "if (n<1 or n>100):\n",
    "    print(\"error!\")\n",
    "elif (n%2!=0):\n",
    "    print(\"Weird\")       \n",
    "elif (2<=n<5 or n>20):\n",
    "    print(\"Not Weird\")\n",
    "elif (6<=n<=20):\n",
    "    print(\"Weird\")    \n",
    "     "
   ]
  },
  {
   "cell_type": "markdown",
   "metadata": {},
   "source": [
    "#### Arithmetic Operators"
   ]
  },
  {
   "cell_type": "code",
   "execution_count": null,
   "metadata": {},
   "outputs": [],
   "source": [
    "a=int(input().strip())\n",
    "b=int(input().strip())\n",
    "print(a+b)\n",
    "print(a-b)\n",
    "print(a*b)"
   ]
  },
  {
   "cell_type": "markdown",
   "metadata": {},
   "source": [
    "#### Python: Division"
   ]
  },
  {
   "cell_type": "code",
   "execution_count": null,
   "metadata": {},
   "outputs": [],
   "source": [
    "a = int(input())\n",
    "b = int(input())\n",
    "print(a//b)\n",
    "print(a/b)\n"
   ]
  },
  {
   "cell_type": "markdown",
   "metadata": {},
   "source": [
    "#### Loops"
   ]
  },
  {
   "cell_type": "code",
   "execution_count": null,
   "metadata": {},
   "outputs": [],
   "source": [
    "n = int(input())\n",
    "i=0\n",
    "while i<n:\n",
    "    print(i**2)\n",
    "    i=i+1"
   ]
  },
  {
   "cell_type": "markdown",
   "metadata": {},
   "source": [
    "#### Write a function"
   ]
  },
  {
   "cell_type": "code",
   "execution_count": null,
   "metadata": {},
   "outputs": [],
   "source": [
    "def is_leap(year):\n",
    "    leap = False\n",
    "    if (year%4==0 and year%100!=0):\n",
    "        leap=True\n",
    "    elif(year%4==0 and year%100==0 and year%400==0): \n",
    "        leap=True   \n",
    "    \n",
    "    return leap"
   ]
  },
  {
   "cell_type": "markdown",
   "metadata": {},
   "source": [
    "#### Print Function"
   ]
  },
  {
   "cell_type": "code",
   "execution_count": null,
   "metadata": {},
   "outputs": [],
   "source": [
    "n=int(input())\n",
    "for i in range(1,n+1):\n",
    "    print (i,end = \"\")"
   ]
  },
  {
   "cell_type": "markdown",
   "metadata": {},
   "source": [
    "## Basic Data Types"
   ]
  },
  {
   "cell_type": "markdown",
   "metadata": {},
   "source": [
    "#### List Comprehensions\n"
   ]
  },
  {
   "cell_type": "code",
   "execution_count": null,
   "metadata": {},
   "outputs": [],
   "source": [
    "x = int(input())\n",
    "y = int(input())\n",
    "z = int(input())\n",
    "n = int(input())\n",
    "\n",
    "#print([[i,j,k] for i in range (0,x+1) for j in range (0,y+1) for k in range (0,z+1) if i+j+k!=n])\n",
    "lista=[[i,j,k] for i in range (0,x+1) for j in range (0,y+1) for k in range (0,z+1) if i+j+k!=n]\n",
    "print(lista)\n"
   ]
  },
  {
   "cell_type": "markdown",
   "metadata": {},
   "source": [
    "#### Find the Runner-Up Score!\n",
    "\n"
   ]
  },
  {
   "cell_type": "code",
   "execution_count": null,
   "metadata": {},
   "outputs": [],
   "source": [
    "n = int(input())\n",
    "arr = map(int, input().split())        \n",
    "\n",
    "first=second=-1000\n",
    "\n",
    "for i in arr:                        #elemnti array\n",
    "    if first <i:\n",
    "        tmp=first       \n",
    "        second=tmp           #second assume il vecchio valore di first\n",
    "        first=i\n",
    "    elif i>second and i != first:       #caso in cui second<i<first\n",
    "        second=i\n",
    "print(second)    \n"
   ]
  },
  {
   "cell_type": "markdown",
   "metadata": {},
   "source": [
    "#### Nested Lists\n",
    "\n"
   ]
  },
  {
   "cell_type": "code",
   "execution_count": null,
   "metadata": {},
   "outputs": [],
   "source": [
    "#looked at the discussions' section\n",
    "students=[]\n",
    "for _ in range(int(input())):\n",
    "     name = input()\n",
    "     score = float(input())\n",
    "     students.append((name,score))\n",
    "second_lowest=sorted(list(set([x[1] for x in students])))[1]\n",
    "#x[1] for x in students create a list of grades\n",
    "#set create una tupla (rimuove duplicati)\n",
    "#list la rende di nuovo una lista\n",
    "#sorted la mette in ordine\n",
    "#[1] prende il secondo elemento della lista che ora è il secondo voto più basso\n",
    "second_students=sorted([s for s,g in students if g==second_lowest])\n",
    "#lista con il nome della persona se il suo voto è il secondo più basso)\n",
    "for s in second_students:\n",
    "    print(s)\n"
   ]
  },
  {
   "cell_type": "markdown",
   "metadata": {},
   "source": [
    "#### Finding the percentage\n",
    "\n"
   ]
  },
  {
   "cell_type": "code",
   "execution_count": null,
   "metadata": {},
   "outputs": [],
   "source": [
    "if __name__ == '__main__':\n",
    "    n = int(input())\n",
    "    student_marks = {}\n",
    "    for _ in range(n):\n",
    "        name, *line = input().split()\n",
    "        scores = list(map(float, line))         \n",
    "        student_marks[name] = scores\n",
    "    query_name = input()\n",
    "\n",
    "if query_name in student_marks:\n",
    "    z=sum(student_marks[query_name])/(len(student_marks[query_name]))\n",
    "    print(\"{:.2f}\".format(z))\n"
   ]
  },
  {
   "cell_type": "markdown",
   "metadata": {},
   "source": [
    "#### Lists"
   ]
  },
  {
   "cell_type": "code",
   "execution_count": null,
   "metadata": {},
   "outputs": [],
   "source": [
    "N = int(input().strip())\n",
    "l=[]\n",
    "for i in range(N):\n",
    "    argomento=input().strip().split(\" \")       \n",
    "    if argomento[0]== \"insert\":\n",
    "        l.insert(int(argomento[1]),int(argomento[2]))\n",
    "    elif argomento[0]== \"remove\":\n",
    "        l.remove(int(argomento[1]))\n",
    "    elif argomento[0]== \"append\":\n",
    "        l.append(int(argomento[1]))\n",
    "    elif argomento[0]== \"sort\":\n",
    "        l.sort()\n",
    "    elif argomento[0]== \"pop\":\n",
    "        l.pop()\n",
    "    elif argomento[0]== \"reverse\":\n",
    "        l.reverse()\n",
    "    elif argomento[0]== \"print\":\n",
    "        print(l)                          \n"
   ]
  },
  {
   "cell_type": "markdown",
   "metadata": {},
   "source": [
    "#### Tuples"
   ]
  },
  {
   "cell_type": "code",
   "execution_count": null,
   "metadata": {},
   "outputs": [],
   "source": [
    "if __name__ == '__main__':\n",
    "    n = int(input())\n",
    "    integer_list = map(int, input().split())   \n",
    "    t=tuple(integer_list)\n",
    "    print(hash(t))\n"
   ]
  },
  {
   "cell_type": "markdown",
   "metadata": {},
   "source": [
    "## Strings"
   ]
  },
  {
   "cell_type": "markdown",
   "metadata": {},
   "source": [
    "#### sWAP cASE"
   ]
  },
  {
   "cell_type": "code",
   "execution_count": null,
   "metadata": {},
   "outputs": [],
   "source": [
    "def swap_case(s):\n",
    "    return s.swapcase()"
   ]
  },
  {
   "cell_type": "markdown",
   "metadata": {},
   "source": [
    "#### String Split and Join"
   ]
  },
  {
   "cell_type": "code",
   "execution_count": null,
   "metadata": {},
   "outputs": [],
   "source": [
    "def split_and_join(line):\n",
    "    line=line.split(\" \")\n",
    "    line=\"-\".join(line)\n",
    "    return line\n"
   ]
  },
  {
   "cell_type": "markdown",
   "metadata": {},
   "source": [
    "#### What's Your Name?"
   ]
  },
  {
   "cell_type": "code",
   "execution_count": null,
   "metadata": {},
   "outputs": [],
   "source": [
    "def print_full_name(a, b):\n",
    "    print(\"Hello {} {}! You just delved into python.\".format(a,b))\n"
   ]
  },
  {
   "cell_type": "markdown",
   "metadata": {},
   "source": [
    "#### Mutations"
   ]
  },
  {
   "cell_type": "code",
   "execution_count": null,
   "metadata": {},
   "outputs": [],
   "source": [
    "def mutate_string(string, position, character):\n",
    "    l=list(string)\n",
    "    l[position]=character\n",
    "    string=\"\".join(l)\n",
    "    return string"
   ]
  },
  {
   "cell_type": "markdown",
   "metadata": {},
   "source": [
    "#### Find a string"
   ]
  },
  {
   "cell_type": "code",
   "execution_count": null,
   "metadata": {},
   "outputs": [],
   "source": [
    "def count_substring(string, sub_string):\n",
    "    count=0    \n",
    "    for i in range(0,len(string)):\n",
    "       if string[i:].startswith(sub_string):\n",
    "            count=count +1    \n",
    "    return count"
   ]
  },
  {
   "cell_type": "markdown",
   "metadata": {},
   "source": [
    "#### String Validators\n",
    "\n"
   ]
  },
  {
   "cell_type": "code",
   "execution_count": null,
   "metadata": {},
   "outputs": [],
   "source": [
    "s = input()\n",
    "if (any(k.isalnum() for k in s)) == True:\n",
    "    print (\"True\")\n",
    "else: print(\"False\")                #any returns true or false no need to if\n",
    "print(any(c.isalpha() for c in s))\n",
    "print(any(c.isdigit() for c in s))\n",
    "print(any(c.islower() for c in s))\n",
    "print(any(c.isupper() for c in s))\n"
   ]
  },
  {
   "cell_type": "markdown",
   "metadata": {},
   "source": [
    "#### Text Alignment\n",
    "\n"
   ]
  },
  {
   "cell_type": "code",
   "execution_count": null,
   "metadata": {},
   "outputs": [],
   "source": [
    "#looked at the discussions' section\n",
    "\n",
    "#Replace all ______ with rjust, ljust or center. \n",
    "\n",
    "thickness = int(input()) #This must be an odd number\n",
    "c = 'H'\n",
    "\n",
    "#Top Cone\n",
    "for i in range(thickness):\n",
    "    print((c*i).rjust(thickness-1)+c+(c*i).ljust(thickness-1))\n",
    "\n",
    "#Top Pillars\n",
    "for i in range(thickness+1):\n",
    "    print((c*thickness).center(thickness*2)+(c*thickness).center(thickness*6))\n",
    "\n",
    "#Middle Belt\n",
    "for i in range((thickness+1)//2):\n",
    "    print((c*thickness*5).center(thickness*6))    \n",
    "\n",
    "#Bottom Pillars\n",
    "for i in range(thickness+1):\n",
    "    print((c*thickness).center(thickness*2)+(c*thickness).center(thickness*6))    \n",
    "\n",
    "#Bottom Cone\n",
    "for i in range(thickness):\n",
    "    print(((c*(thickness-i-1)).rjust(thickness)+c+(c*(thickness-i-1)).ljust(thickness)).rjust(thickness*6))\n"
   ]
  },
  {
   "cell_type": "markdown",
   "metadata": {},
   "source": [
    "#### Text Wrap"
   ]
  },
  {
   "cell_type": "code",
   "execution_count": null,
   "metadata": {},
   "outputs": [],
   "source": [
    "import textwrap\n",
    "def wrap(string, max_width):\n",
    "    return textwrap.fill(string,max_width)\n",
    "if __name__ == '__main__':\n",
    "    string, max_width = input(), int(input())\n",
    "    result = wrap(string, max_width)\n",
    "    print(result)"
   ]
  },
  {
   "cell_type": "markdown",
   "metadata": {},
   "source": [
    "#### Designer Door Mat"
   ]
  },
  {
   "cell_type": "code",
   "execution_count": null,
   "metadata": {},
   "outputs": [],
   "source": [
    "N,M= map(int,input().split())\n",
    "for i in range(1,N,2):                  #parte da 1 così è corretto i* sotto \n",
    "    print((i * \".|.\").center(M, \"-\"))\n",
    "print(\"WELCOME\".center(M,\"-\"))\n",
    "for i in range(N-2,-1,-2): \n",
    "    print((i * \".|.\").center(M, \"-\"))\n",
    "        "
   ]
  },
  {
   "cell_type": "markdown",
   "metadata": {},
   "source": [
    "#### String Formatting"
   ]
  },
  {
   "cell_type": "code",
   "execution_count": null,
   "metadata": {},
   "outputs": [],
   "source": [
    "#def print_formatted(number):\n",
    "#    q=bin(number)\n",
    "#    lq=len(str(q[2:]))\n",
    "#    for i in range(1,n+1):\n",
    "#            print(i,end=\" \"*lq)\n",
    "#            print(oct(i)[2:],end=\" \"*lq)\n",
    "#            print(hex(i)[2:],end=\" \"*lq)\n",
    "#            print(bin(i)[2:],end=\"\\n\")\n",
    "#con questo metodo non viene giustificato a destra\n",
    "\n",
    "def print_formatted(number):\n",
    "    width=len(bin(number)[2:])\n",
    "    for i in range(1,number+1):\n",
    "        deci=str(i)\n",
    "        octa=oct(i)[2:]\n",
    "        hexa=(hex(i)[2:]).upper()\n",
    "        bina=bin(i)[2:]\n",
    "        print(deci.rjust(width),octa.rjust(width),hexa.rjust(width),bina.rjust(width))\n",
    "\n",
    "\n"
   ]
  },
  {
   "cell_type": "markdown",
   "metadata": {},
   "source": [
    "#### Alphabet Rangoli"
   ]
  },
  {
   "cell_type": "code",
   "execution_count": null,
   "metadata": {},
   "outputs": [],
   "source": [
    "#looked at the discussions' section\n",
    "def print_rangoli(size):\n",
    "    string='abcdefghijklmnopqrstuvwxyz'\n",
    "    \n",
    "                         \n",
    "    for i in range(n-1, -n, -1):\n",
    "        row = [\"-\"]*(4*n-3)\n",
    "        for j in range(0, n - abs(i)):\n",
    "            row[2*(n-1+j)] = string[abs(i)+j]\n",
    "            row[2*(n-1-j)] = string[abs(i)+j]\n",
    "        print(\"\".join(row))\n"
   ]
  },
  {
   "cell_type": "markdown",
   "metadata": {},
   "source": [
    "#### Capitalize!\n",
    "\n"
   ]
  },
  {
   "cell_type": "code",
   "execution_count": null,
   "metadata": {},
   "outputs": [],
   "source": [
    "def solve(s):\n",
    "    s = s.split(\" \")\n",
    "    return(\" \".join(i.capitalize() for i in s))\n",
    "if __name__ == '__main__':\n",
    "    fptr = open(os.environ['OUTPUT_PATH'], 'w')\n",
    "\n",
    "    s = input()\n",
    "\n",
    "    result = solve(s)\n",
    "\n",
    "    fptr.write(result + '\\n')\n",
    "\n",
    "    fptr.close()\n"
   ]
  },
  {
   "cell_type": "markdown",
   "metadata": {},
   "source": [
    "#### The Minion Game\n",
    "\n"
   ]
  },
  {
   "cell_type": "code",
   "execution_count": null,
   "metadata": {},
   "outputs": [],
   "source": [
    "#looked at the discussions' section\n",
    "def minion_game(string):\n",
    "    vowels=['A','E','I','O','U']\n",
    "    n=len(s)\n",
    "    var=[]\n",
    "    kev=0\n",
    "    for i in range(n):\n",
    "        if string[i] in vowels:\n",
    "            kev+=n-i\n",
    "    stu=(n*(n+1))//2 -kev\n",
    "    if kev>stu:\n",
    "        print('Kevin',kev)\n",
    "    elif kev==stu:\n",
    "        print('Draw')\n",
    "    else:\n",
    "        print('Stuart',stu)"
   ]
  },
  {
   "cell_type": "markdown",
   "metadata": {},
   "source": [
    "#### Merge the Tools!\n",
    "\n"
   ]
  },
  {
   "cell_type": "code",
   "execution_count": null,
   "metadata": {},
   "outputs": [],
   "source": [
    "#looked at the discussions' section\n",
    "def merge_the_tools(string, k):\n",
    "   while string:\n",
    "    s = string[0:k]\n",
    "    seen = ''\n",
    "    for c in s:\n",
    "        if c not in seen:\n",
    "            seen += c\n",
    "    print(seen)\n",
    "    string = string[k:]"
   ]
  },
  {
   "cell_type": "markdown",
   "metadata": {},
   "source": [
    "## Sets"
   ]
  },
  {
   "cell_type": "markdown",
   "metadata": {},
   "source": [
    "#### Introduction to Sets\n",
    "\n"
   ]
  },
  {
   "cell_type": "code",
   "execution_count": null,
   "metadata": {},
   "outputs": [],
   "source": [
    "def average(array):\n",
    "    unique=set(array)\n",
    "    count=len(unique)\n",
    "    summ=sum(unique)\n",
    "    avg=summ/count\n",
    "    return avg\n",
    "if __name__ == '__main__':\n",
    "    n = int(input())\n",
    "    arr = list(map(int, input().split()))\n",
    "    result = average(arr)\n",
    "    print(result)"
   ]
  },
  {
   "cell_type": "markdown",
   "metadata": {},
   "source": [
    "#### No Idea!\n",
    "\n"
   ]
  },
  {
   "cell_type": "code",
   "execution_count": null,
   "metadata": {},
   "outputs": [],
   "source": [
    "n,m=map(int,input().split())\n",
    "elem=input().split()\n",
    "A=set(input().split())\n",
    "B=set(input().split())\n",
    "happy=0\n",
    "\n",
    "for i in range(0,len(elem)):\n",
    "    if elem[i] in A:\n",
    "        happy += 1\n",
    "    elif elem[i] in B:\n",
    "        happy += -1\n",
    "        \n",
    "print(happy)        \n"
   ]
  },
  {
   "cell_type": "markdown",
   "metadata": {},
   "source": [
    "#### Symmetric Difference"
   ]
  },
  {
   "cell_type": "code",
   "execution_count": null,
   "metadata": {},
   "outputs": [],
   "source": [
    "M=int(input())\n",
    "M_elements=input().split()\n",
    "N=int(input())\n",
    "N_elements=input().split()\n",
    "M_elements=set(M_elements)\n",
    "N_elements=set(N_elements)\n",
    "unione=N_elements.union(M_elements)\n",
    "intersez=N_elements.intersection(M_elements)\n",
    "sym_diff=unione.difference(intersez)\n",
    "sym_diff=sorted(map(int,sym_diff))\n",
    "for i in range(0,len(sym_diff)):  \n",
    "    print(sym_diff[i])\n"
   ]
  },
  {
   "cell_type": "markdown",
   "metadata": {},
   "source": [
    "#### Set .add()\n",
    "\n"
   ]
  },
  {
   "cell_type": "code",
   "execution_count": null,
   "metadata": {},
   "outputs": [],
   "source": [
    "N=int(input())\n",
    "countries=set()\n",
    "\n",
    "for i in range(0,N):\n",
    "    countries.add(input())\n",
    "\n",
    "print(len(countries))    "
   ]
  },
  {
   "cell_type": "markdown",
   "metadata": {},
   "source": [
    "#### Set .discard(), .remove() & .pop()\n",
    "\n"
   ]
  },
  {
   "cell_type": "code",
   "execution_count": null,
   "metadata": {},
   "outputs": [],
   "source": [
    "n = int(input())\n",
    "s = set(map(int, input().split()))\n",
    "N=int(input())\n",
    "\n",
    "for i in range(0,N):\n",
    "    com_list=input().split()\n",
    "\n",
    "    if com_list[0]==\"remove\":\n",
    "        s.remove(int(com_list[1]))\n",
    "    if com_list[0]==\"discard\":\n",
    "        s.discard(int(com_list[1]))\n",
    "    if com_list[0]==\"pop\":\n",
    "        s.pop()\n",
    "\n",
    "print(sum(s))        \n"
   ]
  },
  {
   "cell_type": "markdown",
   "metadata": {},
   "source": [
    "#### Set .union() Operation\n",
    "\n"
   ]
  },
  {
   "cell_type": "code",
   "execution_count": null,
   "metadata": {},
   "outputs": [],
   "source": [
    "n=int(input())\n",
    "eng_members=input().split()\n",
    "b=int(input())\n",
    "fr_members=input().split()\n",
    "eng_members=set(eng_members)\n",
    "fr_members=set(fr_members)\n",
    "unione=eng_members.union(fr_members)\n",
    "\n",
    "print(len(unione))"
   ]
  },
  {
   "cell_type": "markdown",
   "metadata": {},
   "source": [
    "#### Set .intersection() Operation"
   ]
  },
  {
   "cell_type": "code",
   "execution_count": null,
   "metadata": {},
   "outputs": [],
   "source": [
    "n=int(input())\n",
    "eng_members=input().split()\n",
    "b=int(input())\n",
    "fr_members=input().split()\n",
    "eng_members=set(eng_members)\n",
    "fr_members=set(fr_members)\n",
    "intersez=eng_members.intersection(fr_members)\n",
    "\n",
    "print(len(intersez))\n"
   ]
  },
  {
   "cell_type": "markdown",
   "metadata": {},
   "source": [
    "#### Set .difference() Operation\n",
    "\n"
   ]
  },
  {
   "cell_type": "code",
   "execution_count": null,
   "metadata": {},
   "outputs": [],
   "source": [
    "n=int(input())\n",
    "eng_members=input().split()\n",
    "b=int(input())\n",
    "fr_members=input().split()\n",
    "eng_members=set(eng_members)\n",
    "fr_members=set(fr_members)\n",
    "diff=eng_members.difference(fr_members)\n",
    "\n",
    "print(len(diff))\n"
   ]
  },
  {
   "cell_type": "markdown",
   "metadata": {},
   "source": [
    "#### Set .symmetric_difference() Operation"
   ]
  },
  {
   "cell_type": "code",
   "execution_count": null,
   "metadata": {},
   "outputs": [],
   "source": [
    "n=int(input())\n",
    "eng_members=input().split()\n",
    "b=int(input())\n",
    "fr_members=input().split()\n",
    "eng_members=set(eng_members)\n",
    "fr_members=set(fr_members)\n",
    "sym_diff=eng_members.symmetric_difference(fr_members)\n",
    "\n",
    "print(len(sym_diff))\n"
   ]
  },
  {
   "cell_type": "markdown",
   "metadata": {},
   "source": [
    "#### Set Mutations"
   ]
  },
  {
   "cell_type": "code",
   "execution_count": null,
   "metadata": {},
   "outputs": [],
   "source": [
    "n_elements_a=int(input())\n",
    "A=set(map(int, input().split()))\n",
    "n_other_sets=int(input())\n",
    "\n",
    "for i in range(n_other_sets):\n",
    "    com_list, nlen=input().split()\n",
    "    elementi=set(map(int,input().split()))\n",
    "    \n",
    "    if com_list==\"update\":\n",
    "        A.update(elementi)\n",
    "    elif com_list==\"intersection_update\":\n",
    "        A.intersection_update(elementi)\n",
    "    elif com_list==\"difference_update\":  \n",
    "        A.difference_update(elementi)\n",
    "    elif com_list==\"symmetric_difference_update\":\n",
    "        A.symmetric_difference_update(elementi)\n",
    "\n",
    "\n",
    "print (sum(A))        \n",
    "\n",
    "\n",
    "\n"
   ]
  },
  {
   "cell_type": "markdown",
   "metadata": {},
   "source": [
    "#### The Captain's Room"
   ]
  },
  {
   "cell_type": "code",
   "execution_count": null,
   "metadata": {},
   "outputs": [],
   "source": [
    "group_size=int(input())\n",
    "room_numb=map(int,input().split())\n",
    "singole=set()\n",
    "multiple=set()\n",
    "\n",
    "for room in room_numb:\n",
    "    if room not in singole:\n",
    "        singole.add(room)\n",
    "    else: multiple.add(room)    \n",
    " \n",
    "#singole avrà tutti i valori, multiple avrà tutti i valori che si sono ripetuti almeno una volta(essendo un set non ci saranno valori ripetuti)    \n",
    "temp=singole.difference(multiple)\n",
    "#print(temp)        restituisce {8}, non va bene\n",
    "temp=temp.pop()     #pop restituisce il valore tolto\n",
    "print(temp)   \n",
    "\n",
    "        \n",
    "\n",
    "\n"
   ]
  },
  {
   "cell_type": "markdown",
   "metadata": {},
   "source": [
    "#### Check Subset"
   ]
  },
  {
   "cell_type": "code",
   "execution_count": null,
   "metadata": {},
   "outputs": [],
   "source": [
    "test_cases=int(input())\n",
    "for i in range(test_cases):\n",
    "\n",
    "    elem_a=int(input())\n",
    "    a=set(map(int,input().split()))\n",
    "    elem_b=int(input())\n",
    "    b=set(map(int,input().split()))\n",
    "\n",
    "    if a.intersection(b) == (a or b):\n",
    "        print (\"True\")\n",
    "\n",
    "    else: print(\"False\")    \n"
   ]
  },
  {
   "cell_type": "markdown",
   "metadata": {},
   "source": [
    "#### Check Strict Superset"
   ]
  },
  {
   "cell_type": "code",
   "execution_count": null,
   "metadata": {},
   "outputs": [],
   "source": [
    "A=set(input().split())\n",
    "numb_set=int(input())\n",
    "count=0\n",
    "\n",
    "for i in range(numb_set):\n",
    "    B=set(input().split())\n",
    "\n",
    "    #if (A.issuperset(B)):\n",
    "    if (A.intersection(B)==B) and (A.intersection(B)!=A):\n",
    "        count = count +1\n",
    "\n",
    "print(count == numb_set)\n"
   ]
  },
  {
   "cell_type": "markdown",
   "metadata": {},
   "source": [
    "## Collections"
   ]
  },
  {
   "cell_type": "markdown",
   "metadata": {},
   "source": [
    "#### Word Order"
   ]
  },
  {
   "cell_type": "code",
   "execution_count": null,
   "metadata": {},
   "outputs": [],
   "source": [
    "from collections import *\n",
    "n=int(input())\n",
    "s=[]\n",
    "for i in range(0,n):\n",
    "    s.append(input())\n",
    "    c=Counter(s)\n",
    "print(len(c))\n",
    "print(*c.values())"
   ]
  },
  {
   "cell_type": "markdown",
   "metadata": {},
   "source": [
    "#### collections.Counter("
   ]
  },
  {
   "cell_type": "code",
   "execution_count": null,
   "metadata": {},
   "outputs": [],
   "source": [
    "from collections import Counter\n",
    "X=int(input())\n",
    "shoe_sizes=Counter(map(int,input().split()))\n",
    "customers=int(input())\n",
    "total_revenue=0\n",
    "for i in range(0,customers):\n",
    "    size, price = map(int,input().split())\n",
    "    if shoe_sizes[size]!=0:\n",
    "        total_revenue +=price\n",
    "        shoe_sizes[size]-=1     #diminuisco di 1 le scarpe nello stock\n",
    "print (total_revenue)            \n"
   ]
  },
  {
   "cell_type": "markdown",
   "metadata": {},
   "source": [
    "#### DefaultDict Tutorial\n",
    "\n"
   ]
  },
  {
   "cell_type": "code",
   "execution_count": null,
   "metadata": {},
   "outputs": [],
   "source": [
    "from collections import defaultdict\n",
    "n,m=map(int,input().split())\n",
    "A=defaultdict(list)\n",
    "B=[]\n",
    "for i in range(0,n):\n",
    "    A[input()].append(i+1)\n",
    "for i in range(0,m):\n",
    "    B=B+[input()]\n",
    "\n",
    "for i in B:\n",
    "    if i in A:\n",
    "        print(\" \".join(map(str, A[i])))\n",
    "    else: print(\"-1\")    \n"
   ]
  },
  {
   "cell_type": "markdown",
   "metadata": {},
   "source": [
    "#### Collections.namedtuple()\n",
    "\n"
   ]
  },
  {
   "cell_type": "code",
   "execution_count": null,
   "metadata": {},
   "outputs": [],
   "source": [
    "from collections import namedtuple\n",
    "N=int(input())\n",
    "fields=input().split()\n",
    "summ=0\n",
    "for i in range(0,N):\n",
    "    columns=namedtuple(\"columns\",fields)\n",
    "    fields1,fields2,fields3,fields4=input().split()\n",
    "    x=columns(fields1,fields2,fields3,fields4)\n",
    "    y=int(x.MARKS)\n",
    "    summ +=int(y)\n",
    "print(summ/N)    "
   ]
  },
  {
   "cell_type": "markdown",
   "metadata": {},
   "source": [
    "#### Collections.OrderedDict()\n",
    "\n"
   ]
  },
  {
   "cell_type": "code",
   "execution_count": null,
   "metadata": {},
   "outputs": [],
   "source": [
    "from collections import OrderedDict\n",
    "N=int(input())\n",
    "d=OrderedDict()\n",
    "for i in range(0,N):\n",
    "    item,blank,price=input().rpartition(\" \")\n",
    "    d[item]=d.get(item,0)+int(price)\n",
    "for i in d.items():\n",
    "    print(*i)\n"
   ]
  },
  {
   "cell_type": "markdown",
   "metadata": {},
   "source": [
    "#### Collections.deque()\n",
    "\n"
   ]
  },
  {
   "cell_type": "code",
   "execution_count": null,
   "metadata": {},
   "outputs": [],
   "source": [
    "from collections import deque\n",
    "d = deque()\n",
    "n=int(input())\n",
    "for i in range(n):\n",
    "    c = input().split()\n",
    "    if c[0]==\"append\":\n",
    "        d.append(c[1])\n",
    "    elif c[0]==\"appendleft\":\n",
    "        d.appendleft(c[1])\n",
    "    elif c[0]==\"pop\":\n",
    "        d.pop()\n",
    "    elif c[0]==\"popleft\":\n",
    "        d.popleft()\n",
    "print(*d)\n"
   ]
  },
  {
   "cell_type": "markdown",
   "metadata": {},
   "source": [
    "#### Company Logo\n",
    "\n"
   ]
  },
  {
   "cell_type": "code",
   "execution_count": null,
   "metadata": {},
   "outputs": [],
   "source": [
    "#!/bin/python3\n",
    "\n",
    "import math\n",
    "import os\n",
    "import random\n",
    "import re\n",
    "import sys\n",
    "from collections import *\n",
    "\n",
    "\n",
    "if __name__ == '__main__':\n",
    "    s = input()\n",
    "    r = sorted(s)\n",
    "    k= Counter(r)\n",
    "    for i in k.most_common(3):\n",
    "        print(*i) \n"
   ]
  },
  {
   "cell_type": "markdown",
   "metadata": {},
   "source": [
    "#### Piling Up!\n",
    "\n",
    "\n"
   ]
  },
  {
   "cell_type": "code",
   "execution_count": null,
   "metadata": {},
   "outputs": [],
   "source": [
    "from collections import deque\n",
    "def contr(d):\n",
    "    while d:\n",
    "        big = d.popleft() if d[0]>d[-1] else d.pop()\n",
    "        if not d:\n",
    "            return \"Yes\"\n",
    "        if d[-1]>big or d[0]>big:\n",
    "            return \"No\"\n",
    "    \n",
    "for i in range(int(input())):\n",
    "    int(input())\n",
    "    d = deque(map(int,input().split()))\n",
    "    print(contr(d))"
   ]
  },
  {
   "cell_type": "markdown",
   "metadata": {},
   "source": [
    "## Date and Time"
   ]
  },
  {
   "cell_type": "markdown",
   "metadata": {},
   "source": [
    "#### Calendar Module"
   ]
  },
  {
   "cell_type": "code",
   "execution_count": null,
   "metadata": {},
   "outputs": [],
   "source": [
    "import calendar\n",
    "y=list(map(int,input().split()))\n",
    "#r=calendar.TextCalendar(firstweekday = 6).formatyear(k[2])\n",
    "y.insert(0,y[2])\n",
    "dayweek= calendar.weekday(y[0],y[1],y[2])\n",
    "if dayweek==0:\n",
    "    print(\"MONDAY\")\n",
    "if dayweek==1:\n",
    "    print(\"TUESDAY\")\n",
    "if dayweek==2:\n",
    "    print(\"WEDNESDAY\")\n",
    "if dayweek==3:\n",
    "    print(\"THURSDAY\")\n",
    "if dayweek==4:\n",
    "    print(\"FRIDAY\")\n",
    "if dayweek==5:\n",
    "    print(\"SATURDAY\")\n",
    "if dayweek==6:\n",
    "    print(\"SUNDAY\")                        \n"
   ]
  },
  {
   "cell_type": "markdown",
   "metadata": {},
   "source": [
    "#### Time Delta"
   ]
  },
  {
   "cell_type": "code",
   "execution_count": null,
   "metadata": {},
   "outputs": [],
   "source": [
    "#!/bin/python3\n",
    "\n",
    "import math\n",
    "import os\n",
    "import random\n",
    "import re\n",
    "import sys\n",
    "from datetime import datetime\n",
    "# Complete the time_delta function below.\n",
    "def time_delta(t1, t2):\n",
    "    f= '%a %d %b %Y %H:%M:%S %z'\n",
    "    d1 = datetime.strptime(t1, f) \n",
    "    d2 = datetime.strptime(t2, f) \n",
    "    diff = (d2-d1).total_seconds()  \n",
    "    return str(abs(int(diff)))\n",
    "\n",
    "if __name__ == '__main__':\n",
    "    fptr = open(os.environ['OUTPUT_PATH'], 'w')\n",
    "\n",
    "    t = int(input())\n",
    "\n",
    "    for t_itr in range(t):\n",
    "        t1 = input()\n",
    "\n",
    "        t2 = input()\n",
    "\n",
    "        delta = time_delta(t1, t2)\n",
    "\n",
    "        fptr.write(delta + \"\\n\")\n",
    "\n",
    "    fptr.close()\n"
   ]
  },
  {
   "cell_type": "markdown",
   "metadata": {},
   "source": [
    "## Exceptions"
   ]
  },
  {
   "cell_type": "markdown",
   "metadata": {},
   "source": [
    "#### Exceptions\n",
    "\n"
   ]
  },
  {
   "cell_type": "code",
   "execution_count": null,
   "metadata": {},
   "outputs": [],
   "source": [
    "T=int(input())\n",
    "for i in range(T):    \n",
    "    try:\n",
    "        a,b=map(int,input().split())\n",
    "        print (a//b)\n",
    "    except ZeroDivisionError as Z:\n",
    "        print (\"Error Code:\",Z)\n",
    "    except ValueError as V:\n",
    "        print(\"Error Code:\",V)   \n",
    "         "
   ]
  },
  {
   "cell_type": "markdown",
   "metadata": {},
   "source": [
    "## Built-ins"
   ]
  },
  {
   "cell_type": "markdown",
   "metadata": {},
   "source": [
    "#### Zipped!\n",
    "\n"
   ]
  },
  {
   "cell_type": "code",
   "execution_count": null,
   "metadata": {},
   "outputs": [],
   "source": [
    "N,X=map(int,input().split())\n",
    "tabella=[]\n",
    "for i in range(X):\n",
    "    tabella.append(map(float,input().split()))\n",
    "#alla fine tabella è una lista dove [0] è la lista dei voti nella prima materia e così via (liste annidate)\n",
    "#è come se i 3 elementi di tabella fossero 3 liste diverse, quindi puoi fare:  \n",
    "for i in zip(*tabella):                 \n",
    "    print( sum(i)/len(i) )\n"
   ]
  },
  {
   "cell_type": "markdown",
   "metadata": {},
   "source": [
    "#### Athlete Sort\n",
    "\n"
   ]
  },
  {
   "cell_type": "code",
   "execution_count": null,
   "metadata": {},
   "outputs": [],
   "source": [
    "#!/bin/python3\n",
    "\n",
    "import math\n",
    "import os\n",
    "import random\n",
    "import re\n",
    "import sys\n",
    "\n",
    "\n",
    "\n",
    "if __name__ == '__main__':\n",
    "    nm = input().split()\n",
    "\n",
    "    n = int(nm[0])\n",
    "\n",
    "    m = int(nm[1])\n",
    "\n",
    "    arr = []\n",
    "\n",
    "    for _ in range(n):\n",
    "        arr.append(list(map(int, input().rstrip().split())))\n",
    "\n",
    "    k = int(input())\n",
    "\n",
    "    for row in sorted(arr, key=lambda arr: arr[k]): \n",
    "        print(*row)    \n"
   ]
  },
  {
   "cell_type": "markdown",
   "metadata": {},
   "source": [
    "#### ginortS\n",
    "\n"
   ]
  },
  {
   "cell_type": "code",
   "execution_count": null,
   "metadata": {},
   "outputs": [],
   "source": [
    "n = input()\n",
    "l = []       #lowercase\n",
    "u = []        #uppercase\n",
    "o = []       #odd\n",
    "e = []        #even\n",
    "for i in n:\n",
    "    if i.islower():\n",
    "        l.append(i)\n",
    "    elif i.isupper():\n",
    "        u.append(i)\n",
    "    elif i.isdigit():\n",
    "        if int(i)%2 == 0:\n",
    "            e.append(i)\n",
    "        elif int(i)%2 != 0:\n",
    "            o.append(i)\n",
    "a =sorted(l)+sorted(u)+sorted(o)+sorted(e)\n",
    "for i in a:\n",
    "    print(i,end = \"\")\n"
   ]
  },
  {
   "cell_type": "markdown",
   "metadata": {},
   "source": [
    "## Python Functionals"
   ]
  },
  {
   "cell_type": "markdown",
   "metadata": {},
   "source": [
    "#### Map and Lambda Function\n",
    "\n"
   ]
  },
  {
   "cell_type": "code",
   "execution_count": null,
   "metadata": {},
   "outputs": [],
   "source": [
    "cube = lambda x: x**3\n",
    "def fibonacci(n):\n",
    "    fib=[0,1]\n",
    "    for i in range(2,n):\n",
    "        fib.append(fib[i-2]+fib[i-1])\n",
    "    return fib[0:n] \n",
    "if __name__ == '__main__':\n",
    "    n = int(input())\n",
    "    print(list(map(cube, fibonacci(n))))"
   ]
  },
  {
   "cell_type": "markdown",
   "metadata": {},
   "source": [
    "## Regex and Parsing challenges"
   ]
  },
  {
   "cell_type": "markdown",
   "metadata": {},
   "source": [
    "#### Detect Floating Point Number\n",
    "\n"
   ]
  },
  {
   "cell_type": "code",
   "execution_count": null,
   "metadata": {},
   "outputs": [],
   "source": [
    "import re\n",
    "T=int(input())\n",
    "for i in range(0,T):\n",
    "    N=input()\n",
    "    print (bool(re.match(r\"^[-+]?[0-9]*\\.[0-9]+$\",N)))\n",
    "\n",
    "\n",
    "\n",
    "'''   \n",
    "^ says start of the expression.\n",
    "[-+]? says it can start with either - or +.\n",
    "[0-9] says any number from 0-9 can be followed after it.\n",
    "* says that whichever thing it follows[in this case it is[0-9]], it can repeat arbitrarily times, even 0 times.\n",
    "'.' is placeholder for any character.(for the answer it should be '\\.' instead of '.' ; '\\' is escape character. Because of this you can literally mean a dot in expression).\n",
    "again[0-9] as explained earlier.\n",
    "'+' says that whichever thing it follows[in this case it is[0-9]], it can repeat arbitrarily times, but atleast one time.\n",
    "$ follows whichever thing it should come in the end.\n",
    "'''\n"
   ]
  },
  {
   "cell_type": "markdown",
   "metadata": {},
   "source": [
    "#### Re.split()\n",
    "\n"
   ]
  },
  {
   "cell_type": "code",
   "execution_count": null,
   "metadata": {},
   "outputs": [],
   "source": [
    "regex_pattern = r\"[,.]\"\t# Do not delete 'r'.\n",
    "\n",
    "import re\n",
    "print(\"\\n\".join(re.split(regex_pattern, input())))"
   ]
  },
  {
   "cell_type": "markdown",
   "metadata": {},
   "source": [
    "#### Group(), Groups() & Groupdict()\n",
    "\n"
   ]
  },
  {
   "cell_type": "code",
   "execution_count": null,
   "metadata": {},
   "outputs": [],
   "source": [
    "import re\n",
    "s=input()\n",
    "m = re.search(r'([a-zA-Z0-9])\\1+',s)\n",
    "print(m.group(1) if m else -1)\n",
    "\n",
    "#[a-z0-9A-Z] matches any lowercase and uppercase letter and also any number.\n",
    "#\\1 matches a character if the character is repeated at least once.\n"
   ]
  },
  {
   "cell_type": "markdown",
   "metadata": {},
   "source": [
    "#### Re.findall() & Re.finditer()"
   ]
  },
  {
   "cell_type": "code",
   "execution_count": null,
   "metadata": {},
   "outputs": [],
   "source": [
    "import re\n",
    "v = \"aeiou\"\n",
    "c = \"qwrtypsdfghjklzxcvbnm\"\n",
    "m = re.findall(r\"(?<=[%s])([%s]{2,})[%s]\" % (c, v, c), input(), flags = re.I)  #re.I For Case Insensitive\n",
    "print('\\n'.join(m or ['-1']))\n"
   ]
  },
  {
   "cell_type": "markdown",
   "metadata": {},
   "source": [
    "#### Re.start() & Re.end()\n",
    "\n"
   ]
  },
  {
   "cell_type": "code",
   "execution_count": null,
   "metadata": {},
   "outputs": [],
   "source": [
    "import re\n",
    "\n",
    "s = input()\n",
    "k = input()\n",
    "if k in s:\n",
    "    print(*[(i.start(), (i.start()+len(k)-1)) for i in re.finditer(r'(?={})'.format(k), s)], sep='\\n')\n",
    "else:\n",
    "    print('(-1, -1)')\n"
   ]
  },
  {
   "cell_type": "markdown",
   "metadata": {},
   "source": [
    "#### Regex Substitution\n",
    "\n"
   ]
  },
  {
   "cell_type": "code",
   "execution_count": null,
   "metadata": {},
   "outputs": [],
   "source": [
    "for _ in range(int(input())):\n",
    "    line = input()\n",
    "    \n",
    "    while ' && ' in line or ' || ' in line:\n",
    "        line = line.replace(\" && \", \" and \").replace(\" || \", \" or \")\n",
    "    \n",
    "    print(line)\n"
   ]
  },
  {
   "cell_type": "markdown",
   "metadata": {},
   "source": [
    "#### Validating phone numbers"
   ]
  },
  {
   "cell_type": "code",
   "execution_count": null,
   "metadata": {},
   "outputs": [],
   "source": [
    "import re\n",
    "\n",
    "n = int(input())\n",
    "pattern = re.compile(r'^[7-9]\\d{9}$')\n",
    "numbers = [input() for _ in range(n)]\n",
    "\n",
    "for number in numbers:\n",
    "    if pattern.match(number):\n",
    "        print('YES')\n",
    "    else:\n",
    "        print('NO')\n"
   ]
  },
  {
   "cell_type": "markdown",
   "metadata": {},
   "source": [
    "#### Validating and Parsing Email Addresses\n",
    "\n"
   ]
  },
  {
   "cell_type": "code",
   "execution_count": null,
   "metadata": {},
   "outputs": [],
   "source": [
    "import email.utils\n",
    "import re\n",
    "N = input()\n",
    "for _ in range(int(N)):\n",
    "    email_inpt = email.utils.parseaddr(input())\n",
    "\n",
    "    if bool(re.match('[a-zA-Z](\\w|-|\\.)*@[a-zA-Z]*\\.[a-zA-Z]{0,3}$', email_inpt[1])):\n",
    "        print(email.utils.formataddr(email_inpt))\n"
   ]
  },
  {
   "cell_type": "markdown",
   "metadata": {},
   "source": [
    "#### Hex Color Code"
   ]
  },
  {
   "cell_type": "code",
   "execution_count": null,
   "metadata": {},
   "outputs": [],
   "source": [
    "n=int(input())\n",
    "import re\n",
    "for _ in range(n):\n",
    "    s=input()\n",
    "    if s==\"{\" or s==\"}\" or s==\"\" :\n",
    "        continue\n",
    "    while \"#\" in s:\n",
    "        if \"#\" in s and (\";\" in s or \",\" in s):\n",
    "            if \",\" in s:\n",
    "                b=s[s.find(\"#\"):s.find(\",\")]\n",
    "                s=s[s.find(\",\")+1:]\n",
    "                if b!=\"\":\n",
    "                    print(b)\n",
    "                continue\n",
    "            b=s[s.find(\"#\"):s.find(\";\")].replace(\")\",\"\")\n",
    "            s=s[s.find(\";\")+1:]\n",
    "            c=b.lower().replace(\"#\",\"\").replace(\"a\",\"\").replace(\"b\",\"\").replace(\"c\",\"\") \n",
    "            c=c.replace(\"d\",\"\").replace(\"e\",\"\").replace(\"f\",\"\")\n",
    "            if b!=\"\" and (c==\"\" or c.isdigit()):\n",
    "                print(b)\n",
    "        else:\n",
    "            break\n"
   ]
  },
  {
   "cell_type": "markdown",
   "metadata": {},
   "source": [
    "#### HTML Parser - Part 1\n",
    "\n"
   ]
  },
  {
   "cell_type": "code",
   "execution_count": null,
   "metadata": {},
   "outputs": [],
   "source": [
    "from html.parser import HTMLParser\n",
    "\n",
    "class MyHTMLParser(HTMLParser):\n",
    "    def handle_starttag(self, tag, attrs):\n",
    "        print(\"Start :\", tag)\n",
    "        [print(\"->\", i[0],\">\",i[1]) for i in attrs]\n",
    "    def handle_endtag(self, tag):\n",
    "        print(\"End   :\", tag)\n",
    "    def handle_startendtag(self, tag, attrs):            \n",
    "        print(\"Empty :\", tag)\n",
    "        [print(\"->\", i[0],\">\",i[1]) for i in attrs]\n",
    "\n",
    "parser = MyHTMLParser()\n",
    "\n",
    "for _ in range(int(input())):\n",
    "    parser.feed(input())"
   ]
  },
  {
   "cell_type": "markdown",
   "metadata": {},
   "source": [
    "#### HTML Parser - Part 2\n",
    "\n"
   ]
  },
  {
   "cell_type": "code",
   "execution_count": null,
   "metadata": {},
   "outputs": [],
   "source": [
    "from html.parser import HTMLParser\n",
    "class MyHTMLParser(HTMLParser):\n",
    "    def handle_comment(self, comment):\n",
    "        if '\\n' in comment:\n",
    "            print('>>> Multi-line Comment')\n",
    "        else:\n",
    "            print('>>> Single-line Comment')\n",
    "        print(comment)\n",
    "    def handle_data(self, data):\n",
    "        if len(data) > 1: \n",
    "            print('>>> Data', data, sep='\\n')\n",
    "parser = MyHTMLParser()\n",
    "html_string = ''\n",
    "for i in range(int(input())):\n",
    "    html_string += input().rstrip() + '\\n'\n",
    "parser.feed(html_string)\n",
    "parser.close()\n"
   ]
  },
  {
   "cell_type": "markdown",
   "metadata": {},
   "source": [
    "#### Detect HTML Tags, Attributes and Attribute Values"
   ]
  },
  {
   "cell_type": "code",
   "execution_count": null,
   "metadata": {},
   "outputs": [],
   "source": [
    "from html.parser import HTMLParser\n",
    "class MyHTMLParser(HTMLParser):\n",
    "    def handle_starttag(self,tag,attrs):\n",
    "        print(tag)\n",
    "        for ele in attrs:\n",
    "            print('->',ele[0],'>',ele[1])\n",
    "parser=MyHTMLParser()\n",
    "for _ in range(int(input())):\n",
    "    parser.feed(input())            \n"
   ]
  },
  {
   "cell_type": "markdown",
   "metadata": {},
   "source": [
    "#### Validating UID\n",
    "\n"
   ]
  },
  {
   "cell_type": "code",
   "execution_count": null,
   "metadata": {},
   "outputs": [],
   "source": [
    "import re\n",
    "n=int(input())\n",
    "for i in range(n):\n",
    "    a=input()\n",
    "    a=''.join(sorted(a))\n",
    "    if(len(a)==10):\n",
    "        if(len(re.findall(r'[0-9]',a))>=3 and len(re.findall(r'[A-Z]',a))>=2 and not re.search(r'([0-9,A-Z,a-z])\\1',a)):\n",
    "            print('Valid')\n",
    "        else:\n",
    "            print('Invalid')\n",
    "    else:\n",
    "        print('Invalid')\n"
   ]
  },
  {
   "cell_type": "markdown",
   "metadata": {},
   "source": [
    "#### Validating Credit Card Numbers\n",
    "\n"
   ]
  },
  {
   "cell_type": "code",
   "execution_count": null,
   "metadata": {},
   "outputs": [],
   "source": [
    "import re\n",
    "for i in range(int(input())):\n",
    "    credit_card = input()\n",
    "    if re.match(r'^[456][0-9]{3}-?[0-9]{4}-?[0-9]{4}-?[0-9]{4}$',credit_card) and not re.search(r'([\\d])\\1\\1\\1', credit_card.replace(\"-\",'')):\n",
    "        print(\"Valid\")\n",
    "    else:\n",
    "        print(\"Invalid\")\n"
   ]
  },
  {
   "cell_type": "markdown",
   "metadata": {},
   "source": [
    "#### Validating Postal Codes\n",
    "\n"
   ]
  },
  {
   "cell_type": "code",
   "execution_count": null,
   "metadata": {},
   "outputs": [],
   "source": [
    "regex_integer_in_range = r\"^[1-9][\\d]{5}$\"    # Do not delete 'r'.\n",
    "regex_alternating_repetitive_digit_pair = r\"(\\d)(?=\\d\\1)\"    # Do not delete 'r'.\n",
    "\n",
    "\n",
    "import re\n",
    "P = input()\n",
    "\n",
    "print (bool(re.match(regex_integer_in_range, P)) \n",
    "and len(re.findall(regex_alternating_repetitive_digit_pair, P)) < 2)"
   ]
  },
  {
   "cell_type": "markdown",
   "metadata": {},
   "source": [
    "#### Matrix Script"
   ]
  },
  {
   "cell_type": "code",
   "execution_count": null,
   "metadata": {},
   "outputs": [],
   "source": [
    "#!/bin/python3\n",
    "\n",
    "import math\n",
    "import os\n",
    "import random\n",
    "import re\n",
    "import sys\n",
    "\n",
    "\n",
    "\n",
    "\n",
    "first_multiple_input = input().rstrip().split()\n",
    "\n",
    "n = int(first_multiple_input[0])\n",
    "\n",
    "m = int(first_multiple_input[1])\n",
    "\n",
    "matrix = []\n",
    "\n",
    "for _ in range(n):\n",
    "    matrix_item = input()\n",
    "    matrix.append(matrix_item)\n"
   ]
  },
  {
   "cell_type": "markdown",
   "metadata": {},
   "source": [
    "#### Validating Roman Numerals\n",
    "\n"
   ]
  },
  {
   "cell_type": "code",
   "execution_count": null,
   "metadata": {},
   "outputs": [],
   "source": [
    "thousand = \"(?:(M){0,3})?\"\n",
    "hundred  = \"(?:(D?(C){0,3})|(CM)|(CD))?\"\n",
    "ten      = \"(?:(L?(X){0,3})|(XC)|(XL))?\"\n",
    "unit     = \"(?:(V?(I){0,3})|(IX)|(IV))?\"\n",
    "\n",
    "regex_pattern = r\"^\" + thousand + hundred + ten + unit + \"$\"\n",
    "\n",
    "\n",
    "\n",
    "import re\n",
    "print(str(bool(re.match(regex_pattern, input()))))"
   ]
  },
  {
   "cell_type": "markdown",
   "metadata": {},
   "source": [
    "## XML"
   ]
  },
  {
   "cell_type": "markdown",
   "metadata": {},
   "source": [
    "#### XML 1 - Find the Score\n",
    "\n"
   ]
  },
  {
   "cell_type": "code",
   "execution_count": null,
   "metadata": {},
   "outputs": [],
   "source": [
    "import sys\n",
    "import xml.etree.ElementTree as etree\n",
    "\n",
    "def get_attr_number(node):\n",
    "    score = 0\n",
    "    for child in node.iter():\n",
    "        score += len(child.attrib)\n",
    "    return score\n",
    "f __name__ == '__main__':\n",
    "    sys.stdin.readline()\n",
    "    xml = sys.stdin.read()\n",
    "    tree = etree.ElementTree(etree.fromstring(xml))\n",
    "    root = tree.getroot()\n",
    "    print(get_attr_number(root))"
   ]
  },
  {
   "cell_type": "markdown",
   "metadata": {},
   "source": [
    "#### XML2 - Find the Maximum Depth\n",
    "\n"
   ]
  },
  {
   "cell_type": "code",
   "execution_count": null,
   "metadata": {},
   "outputs": [],
   "source": [
    "import xml.etree.ElementTree as etree\n",
    "\n",
    "maxdepth = 0\n",
    "def depth(elem, level):\n",
    "    global maxdepth\n",
    "    # your code goes here\n",
    "    level += 1\n",
    "    if level >= maxdepth:\n",
    "        maxdepth = level\n",
    "    for child in elem:\n",
    "        depth(child, level)\n",
    "\n",
    "\n",
    "if __name__ == '__main__':\n",
    "    n = int(input())\n",
    "    xml = \"\"\n",
    "    for i in range(n):\n",
    "        xml =  xml + input() + \"\\n\"\n",
    "    tree = etree.ElementTree(etree.fromstring(xml))\n",
    "    depth(tree.getroot(), -1)\n",
    "    print(maxdepth)"
   ]
  },
  {
   "cell_type": "markdown",
   "metadata": {},
   "source": [
    "## Closures and Decorations"
   ]
  },
  {
   "cell_type": "markdown",
   "metadata": {},
   "source": [
    "#### Decorators 2 - Name Directory"
   ]
  },
  {
   "cell_type": "code",
   "execution_count": null,
   "metadata": {},
   "outputs": [],
   "source": [
    "import operator\n",
    "def person_lister(f):\n",
    "    def inner(people):\n",
    "        return map(f,sorted(people,key=lambda x: x[2]))  #sort by age\n",
    "    return inner\n",
    "\n",
    "@person_lister\n",
    "def name_format(person):\n",
    "    return (\"Mr. \" if person[3] == \"M\" else \"Ms. \") + person[0] + \" \" + person[1]\n",
    "\n",
    "if __name__ == '__main__':\n",
    "    people = [input().split() for i in range(int(input()))]\n",
    "    print(*name_format(people), sep='\\n')\n"
   ]
  },
  {
   "cell_type": "markdown",
   "metadata": {},
   "source": [
    "#### Standardize Mobile Number Using Decorators\n",
    "\n"
   ]
  },
  {
   "cell_type": "code",
   "execution_count": null,
   "metadata": {},
   "outputs": [],
   "source": [
    "def wrapper(f):\n",
    "    def fun(l):\n",
    "       f('+91 {} {}'.format(n[-10:-5], n[-5:]) for n in l)\n",
    "    return fun\n",
    "\n",
    "@wrapper\n",
    "def sort_phone(l):\n",
    "    print(*sorted(l), sep='\\n')\n",
    "\n",
    "if __name__ == '__main__':\n",
    "    l = [input() for _ in range(int(input()))]\n",
    "    sort_phone(l) \n",
    "\n",
    "\n"
   ]
  },
  {
   "cell_type": "markdown",
   "metadata": {},
   "source": [
    "## Numphy"
   ]
  },
  {
   "cell_type": "markdown",
   "metadata": {},
   "source": [
    "#### Arrays\n",
    "\n"
   ]
  },
  {
   "cell_type": "code",
   "execution_count": null,
   "metadata": {},
   "outputs": [],
   "source": [
    "import numpy\n",
    "\n",
    "def arrays(arr):\n",
    "   res=numpy.array(arr[::-1],float)\n",
    "   return res\n",
    "\n",
    "arr = input().strip().split(' ')\n",
    "result = arrays(arr)\n",
    "print(result)"
   ]
  },
  {
   "cell_type": "markdown",
   "metadata": {},
   "source": [
    "#### Shape and Reshape"
   ]
  },
  {
   "cell_type": "code",
   "execution_count": null,
   "metadata": {},
   "outputs": [],
   "source": [
    "import numpy as np\n",
    "\n",
    "my_array = np.array(input().split(),int)\n",
    "print(np.reshape(my_array,(3,3)))\n"
   ]
  },
  {
   "cell_type": "markdown",
   "metadata": {},
   "source": [
    "#### Transpose and Flatten\n",
    "\n"
   ]
  },
  {
   "cell_type": "code",
   "execution_count": null,
   "metadata": {},
   "outputs": [],
   "source": [
    "import numpy as np\n",
    "\n",
    "N,M=map(int,(input().split()))\n",
    "my_array=[]\n",
    "for i in range(N):\n",
    "   array=input().split()\n",
    "   my_array.append(array)\n",
    "\n",
    "lis1 = np.array(my_array,int);\n",
    "print(np.transpose(lis1))\n",
    "print(lis1.flatten())"
   ]
  },
  {
   "cell_type": "markdown",
   "metadata": {},
   "source": [
    "#### Concatenate\n",
    "\n"
   ]
  },
  {
   "cell_type": "code",
   "execution_count": null,
   "metadata": {},
   "outputs": [],
   "source": [
    "import numpy as np\n",
    "\n",
    "N,M,P =map(int,input().split())\n",
    "arr_1=[]\n",
    "arr_2=[]\n",
    "for i in range(N):\n",
    "    array=input().split()\n",
    "    arr_1.append(array)\n",
    "for i in range(M):\n",
    "    array=input().split()\n",
    "    arr_2.append(array)\n",
    "\n",
    "arr_1=np.array(arr_1,int)\n",
    "arr_2=np.array(arr_2,int)\n",
    "print(np.concatenate((arr_1, arr_2),axis=0))    \n",
    "\n"
   ]
  },
  {
   "cell_type": "markdown",
   "metadata": {},
   "source": [
    "#### Zeros and Ones"
   ]
  },
  {
   "cell_type": "code",
   "execution_count": null,
   "metadata": {},
   "outputs": [],
   "source": [
    "import numpy as np\n",
    "\n",
    "lista=list(map(int,input().split()))\n",
    "\n",
    "print(np.zeros(lista, dtype = np.int))\n",
    "print(np.ones(lista, dtype = np.int))"
   ]
  },
  {
   "cell_type": "markdown",
   "metadata": {},
   "source": [
    "#### Eye and Identity\n",
    "\n"
   ]
  },
  {
   "cell_type": "code",
   "execution_count": null,
   "metadata": {},
   "outputs": [],
   "source": [
    "import numpy as np\n",
    "\n",
    "N,M=map(int,input().split())\n",
    "print(str(np.eye(N,M,k=0)).replace(\"1\",\" 1\").replace(\"0\",\" 0\"))\n"
   ]
  },
  {
   "cell_type": "markdown",
   "metadata": {},
   "source": [
    "#### Array Mathematics"
   ]
  },
  {
   "cell_type": "code",
   "execution_count": null,
   "metadata": {},
   "outputs": [],
   "source": [
    "import numpy as np\n",
    "\n",
    "A=[]\n",
    "B=[]\n",
    "N,M=map(int,input().split())\n",
    "for i in range(0,N):\n",
    "    array=input().split()\n",
    "    A.append(array)\n",
    "for i in range(0,N):\n",
    "    array=input().split()\n",
    "    B.append(array)\n",
    "\n",
    "A=np.array(A,int)\n",
    "B=np.array(B,int)\n",
    "\n",
    "print(A+B)\n",
    "print(A-B)\n",
    "print(A*B)\n",
    "print(A//B)\n",
    "print(A%B)\n",
    "print(A**B)"
   ]
  },
  {
   "cell_type": "markdown",
   "metadata": {},
   "source": [
    "#### Floor, Ceil and Rint"
   ]
  },
  {
   "cell_type": "code",
   "execution_count": null,
   "metadata": {},
   "outputs": [],
   "source": [
    "import numpy as np\n",
    "\n",
    "np.set_printoptions(sign=' ')\n",
    "\n",
    "A=np.array(input().split(),float)\n",
    "print(np.floor(A))\n",
    "print(np.ceil(A))\n",
    "print(np.rint(A))\n",
    "\n"
   ]
  },
  {
   "cell_type": "markdown",
   "metadata": {},
   "source": [
    "#### Sum and Prod\n",
    "\n"
   ]
  },
  {
   "cell_type": "code",
   "execution_count": null,
   "metadata": {},
   "outputs": [],
   "source": [
    "import numpy as np\n",
    "\n",
    "N,M=map(int,input().split())\n",
    "\n",
    "arr=[]\n",
    "for i in range(N):\n",
    "    temp=input().split()\n",
    "    arr.append(temp)\n",
    "\n",
    "arr=np.array(arr,int)\n",
    "x=np.sum(arr,axis=0)\n",
    "x= np.prod(x)\n",
    "print(x)"
   ]
  },
  {
   "cell_type": "markdown",
   "metadata": {},
   "source": [
    "#### Min and Max\n",
    "\n"
   ]
  },
  {
   "cell_type": "code",
   "execution_count": null,
   "metadata": {},
   "outputs": [],
   "source": [
    "import numpy as np\n",
    "\n",
    "N,M=map(int,input().split())\n",
    "arr=[]\n",
    "for i in range(N):\n",
    "    temp=input().split()\n",
    "    arr.append(temp)\n",
    "\n",
    "arr=np.array(arr,int)\n",
    "print(np.max(np.min(arr, axis=1)))\n"
   ]
  },
  {
   "cell_type": "markdown",
   "metadata": {},
   "source": [
    "#### Mean, Var, and Std"
   ]
  },
  {
   "cell_type": "code",
   "execution_count": null,
   "metadata": {},
   "outputs": [],
   "source": [
    "import numpy as np\n",
    "\n",
    "N,M=map(int,input().split())\n",
    "arr=[]\n",
    "for i in range(N):\n",
    "    temp=input().split()\n",
    "    arr.append(temp)\n",
    "\n",
    "np.set_printoptions(legacy='1.13')\n",
    "arr=np.array(arr,int)\n",
    "print(np.mean(arr,axis=1))\n",
    "print(np.var(arr,axis=0))\n",
    "print(np.std(arr))"
   ]
  },
  {
   "cell_type": "markdown",
   "metadata": {},
   "source": [
    "#### Dot and Cross"
   ]
  },
  {
   "cell_type": "code",
   "execution_count": null,
   "metadata": {},
   "outputs": [],
   "source": [
    "import numpy as np\n",
    "\n",
    "N=int(input())\n",
    "A=[]\n",
    "B=[]\n",
    "for i in range(N):\n",
    "    temp=input().split()\n",
    "    A.append(temp)\n",
    "\n",
    "for i in range(N):\n",
    "    temp=input().split()\n",
    "    B.append(temp)    \n",
    "\n",
    "A=np.array(A,int)   \n",
    "B=np.array(B,int)\n",
    "\n",
    "print(np.dot(A,B))\n"
   ]
  },
  {
   "cell_type": "markdown",
   "metadata": {},
   "source": [
    "#### Inner and Outer\n",
    "\n"
   ]
  },
  {
   "cell_type": "code",
   "execution_count": null,
   "metadata": {},
   "outputs": [],
   "source": [
    "import numpy as np\n",
    "\n",
    "A=np.array(input().split(),int)\n",
    "B=np.array(input().split(),int)\n",
    "print(np.inner(A,B))\n",
    "print(np.outer(A,B))"
   ]
  },
  {
   "cell_type": "markdown",
   "metadata": {},
   "source": [
    "#### Polynomials"
   ]
  },
  {
   "cell_type": "code",
   "execution_count": null,
   "metadata": {},
   "outputs": [],
   "source": [
    "import numpy as np\n",
    "\n",
    "A=np.array(input().split(),float)\n",
    "x=float(input())\n",
    "print(np.polyval(A,x))"
   ]
  },
  {
   "cell_type": "markdown",
   "metadata": {},
   "source": [
    "#### Linear Algebra\n",
    "\n"
   ]
  },
  {
   "cell_type": "code",
   "execution_count": null,
   "metadata": {},
   "outputs": [],
   "source": [
    "import numpy as np\n",
    "\n",
    "N=int(input())\n",
    "A=[]\n",
    "for i in range(N):\n",
    "    temp=input().split()\n",
    "    A.append(temp)\n",
    "\n",
    "A=np.array(A,float)\n",
    "print(round(np.linalg.det(A),2))"
   ]
  },
  {
   "cell_type": "markdown",
   "metadata": {},
   "source": [
    "# PROBLEM 2"
   ]
  },
  {
   "cell_type": "markdown",
   "metadata": {},
   "source": [
    "### Birthday Cake Candles\n",
    "\n"
   ]
  },
  {
   "cell_type": "code",
   "execution_count": null,
   "metadata": {},
   "outputs": [],
   "source": [
    "#!/bin/python3\n",
    "\n",
    "import math\n",
    "import os\n",
    "import random\n",
    "import re\n",
    "import sys\n",
    "\n",
    "#\n",
    "# Complete the 'birthdayCakeCandles' function below.\n",
    "#\n",
    "# The function is expected to return an INTEGER.\n",
    "# The function accepts INTEGER_ARRAY candles as parameter.\n",
    "#\n",
    "\n",
    "def birthdayCakeCandles(candles):\n",
    "    z=max(candles)\n",
    "    count=0\n",
    "    for i in range(0,len(candles)):\n",
    "        if candles[i]==z:\n",
    "            count+=1\n",
    "    return count        \n",
    "\n",
    "\n",
    "\n",
    "if __name__ == '__main__':\n",
    "    fptr = open(os.environ['OUTPUT_PATH'], 'w')\n",
    "\n",
    "    candles_count = int(input().strip())\n",
    "\n",
    "    candles = list(map(int, input().rstrip().split()))\n",
    "\n",
    "    result = birthdayCakeCandles(candles)\n",
    "\n",
    "    fptr.write(str(result) + '\\n')\n",
    "\n",
    "    fptr.close()\n"
   ]
  },
  {
   "cell_type": "markdown",
   "metadata": {},
   "source": [
    "### Number Line Jumps"
   ]
  },
  {
   "cell_type": "code",
   "execution_count": null,
   "metadata": {},
   "outputs": [],
   "source": [
    "#!/bin/python3\n",
    "\n",
    "import math\n",
    "import os\n",
    "import random\n",
    "import re\n",
    "import sys\n",
    "\n",
    "# Complete the kangaroo function below.\n",
    "def kangaroo(x1, v1, x2, v2):\n",
    "    kang1=temp1=x1\n",
    "    kang2=temp2=x2\n",
    "    if x1<x2:\n",
    "        while kang1<kang2:\n",
    "            kang1+=v1\n",
    "            kang2+=v2\n",
    "            if x2-x1 < kang2-kang1:\n",
    "                break\n",
    "    elif x2<x1:\n",
    "        while kang2<kang1:\n",
    "            kang1+=v1\n",
    "            kang2+=v2\n",
    "            if x1-x2 < kang2-kang1:\n",
    "                break\n",
    "    if kang1==kang2:\n",
    "        return \"YES\"\n",
    "    else: return \"NO\" \n",
    "    \n",
    "\n",
    "\n",
    "\n",
    "if __name__ == '__main__':\n",
    "    fptr = open(os.environ['OUTPUT_PATH'], 'w')\n",
    "\n",
    "    x1V1X2V2 = input().split()\n",
    "\n",
    "    x1 = int(x1V1X2V2[0])\n",
    "\n",
    "    v1 = int(x1V1X2V2[1])\n",
    "\n",
    "    x2 = int(x1V1X2V2[2])\n",
    "\n",
    "    v2 = int(x1V1X2V2[3])\n",
    "\n",
    "    result = kangaroo(x1, v1, x2, v2)\n",
    "\n",
    "    fptr.write(result + \"\\n\")\n",
    "\n",
    "    fptr.close()\n"
   ]
  },
  {
   "cell_type": "markdown",
   "metadata": {},
   "source": [
    "### Viral Advertising\n",
    "\n"
   ]
  },
  {
   "cell_type": "code",
   "execution_count": null,
   "metadata": {},
   "outputs": [],
   "source": [
    "#!/bin/python3\n",
    "\n",
    "import math\n",
    "import os\n",
    "import random\n",
    "import re\n",
    "import sys\n",
    "\n",
    "# Complete the viralAdvertising function below.\n",
    "def viralAdvertising(n):\n",
    "    shared=5\n",
    "    liked=math.floor(shared/2)\n",
    "    cumulative = liked\n",
    "    for i in range(1,n):\n",
    "        shared=liked*3\n",
    "        liked=math.floor(shared/2)\n",
    "        cumulative += liked\n",
    "    return cumulative    \n",
    "\n",
    "if __name__ == '__main__':\n",
    "    fptr = open(os.environ['OUTPUT_PATH'], 'w')\n",
    "\n",
    "    n = int(input())\n",
    "\n",
    "    result = viralAdvertising(n)\n",
    "\n",
    "    fptr.write(str(result) + '\\n')\n",
    "\n",
    "    fptr.close()\n"
   ]
  },
  {
   "cell_type": "markdown",
   "metadata": {},
   "source": [
    "### Insertion Sort - Part 1"
   ]
  },
  {
   "cell_type": "code",
   "execution_count": null,
   "metadata": {},
   "outputs": [],
   "source": [
    "#!/bin/python3\n",
    "\n",
    "import math\n",
    "import os\n",
    "import random\n",
    "import re\n",
    "import sys\n",
    "\n",
    "# Complete the insertionSort1 function below.\n",
    "def insertionSort1(n, arr):\n",
    "    x=n-1\n",
    "    last=arr[x]\n",
    "    for i in range (x,0,-1):\n",
    "        if arr[i]>=last and arr[i-1]>last:\n",
    "            arr[i]=arr[i-1]\n",
    "            print(*arr)\n",
    "        if arr[i-1]<last: \n",
    "            arr[i]=last\n",
    "            print(*arr)\n",
    "            break    \n",
    "    return \n",
    "\n",
    "\n",
    "if __name__ == '__main__':\n",
    "    n = int(input())\n",
    "\n",
    "    arr = list(map(int, input().rstrip().split()))\n",
    "\n",
    "    insertionSort1(n, arr)\n"
   ]
  },
  {
   "cell_type": "markdown",
   "metadata": {},
   "source": [
    "### Insertion Sort - Part 2"
   ]
  },
  {
   "cell_type": "code",
   "execution_count": null,
   "metadata": {},
   "outputs": [],
   "source": [
    "#!/bin/python3\n",
    "\n",
    "import math\n",
    "import os\n",
    "import random\n",
    "import re\n",
    "import sys\n",
    "\n",
    "# Complete the insertionSort2 function below.\n",
    "def insertionSort2(n, arr):\n",
    "    for n in range(1,n):\n",
    "        i = arr[n]\n",
    "        while n>0:\n",
    "            if i > arr[n-1]:\n",
    "                arr[n] = i\n",
    "                print(*arr)\n",
    "                break\n",
    "            else:\n",
    "                arr[n] =arr[n-1]\n",
    "            n-=1\n",
    "        else:\n",
    "            arr[0] = i\n",
    "            print(*arr)\n",
    "if __name__ == '__main__':\n",
    "    n = int(input())\n",
    "\n",
    "    arr = list(map(int, input().rstrip().split()))\n",
    "\n",
    "    insertionSort2(n, arr)\n"
   ]
  },
  {
   "cell_type": "markdown",
   "metadata": {},
   "source": [
    "### Recursive Digit Sum"
   ]
  },
  {
   "cell_type": "code",
   "execution_count": null,
   "metadata": {},
   "outputs": [],
   "source": [
    "#!/bin/python3\n",
    "\n",
    "import math\n",
    "import os\n",
    "import random\n",
    "import re\n",
    "import sys\n",
    "\n",
    "# Complete the superDigit function below.\n",
    "def superDigit(n, k):     \n",
    "    if len(n) == 1:\n",
    "        return int(n)\n",
    "    p = sum(int(i) for i in n) * k\n",
    "    return superDigit(str(p), 1)       \n",
    "\n",
    "if __name__ == '__main__':\n",
    "    fptr = open(os.environ['OUTPUT_PATH'], 'w')\n",
    "\n",
    "    nk = input().split()\n",
    "\n",
    "    n = nk[0]\n",
    "\n",
    "    k = int(nk[1])\n",
    "\n",
    "    result = superDigit(n, k)\n",
    "\n",
    "    fptr.write(str(result) + '\\n')\n",
    "\n",
    "    fptr.close()\n"
   ]
  }
 ],
 "metadata": {
  "kernelspec": {
   "display_name": "Python 3",
   "language": "python",
   "name": "python3"
  },
  "language_info": {
   "codemirror_mode": {
    "name": "ipython",
    "version": 3
   },
   "file_extension": ".py",
   "mimetype": "text/x-python",
   "name": "python",
   "nbconvert_exporter": "python",
   "pygments_lexer": "ipython3",
   "version": "3.8.5"
  }
 },
 "nbformat": 4,
 "nbformat_minor": 4
}
